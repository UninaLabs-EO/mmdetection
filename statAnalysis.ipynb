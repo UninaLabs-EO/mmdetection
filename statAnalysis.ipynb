{
 "cells": [
  {
   "cell_type": "code",
   "execution_count": null,
   "metadata": {},
   "outputs": [],
   "source": [
    "# from mmdet.apis import init_detector, inference_detector\n",
    "\n",
    "# config_file = 'rtmdet_tiny_8xb32-300e_coco.py'\n",
    "# checkpoint_file = 'rtmdet_tiny_8xb32-300e_coco_20220902_112414-78e30dcc.pth'\n",
    "# model = init_detector(config_file, checkpoint_file, device='cpu')  # or device='cuda:0'\n",
    "# inference_detector(model, 'demo/demo.jpg')"
   ]
  },
  {
   "cell_type": "code",
   "execution_count": null,
   "metadata": {},
   "outputs": [],
   "source": [
    "from mmcv.transforms import LoadImageFromFile\n",
    "import matplotlib.pyplot as plt\n",
    "import cv2\n",
    "\n",
    "# backend_args = dict(channel_order='bgr')\n",
    "backend_args = None\n",
    "\n",
    "loader = LoadImageFromFile(to_float32=True, color_type='color', imdecode_backend='tifffile', backend_args=backend_args)\n",
    "loader"
   ]
  },
  {
   "cell_type": "code",
   "execution_count": null,
   "metadata": {},
   "outputs": [],
   "source": [
    "from pathlib import Path  \n",
    "\n",
    "immagini_path = Path('/home/roberto/PythonProjects/S2RAWVessel/mmdetection/data/vessels/imgs')\n",
    "paths = list(immagini_path.glob('*.tif'))\n",
    "\n",
    "medie1, medie2, medie3 = [], [], []\n",
    "dev1, dev2, dev3 = [], [], []\n",
    "for idx,path in enumerate(paths):\n",
    "\n",
    "    l = loader(results={'img_path': path})\n",
    "    img = l['img']\n",
    "    a,b,c = img[:,:,0], img[:,:,1], img[:,:,2]\n",
    "\n",
    "\n",
    "    m1, m2, m3 = a.mean(), b.mean(), c.mean()\n",
    "    s1, s2, s3 = a.std(), b.std(), c.std()\n",
    "    \n",
    "    medie1.append(m1)\n",
    "    medie2.append(m2)\n",
    "    medie3.append(m3)\n",
    "    \n",
    "    dev1.append(s1)\n",
    "    dev2.append(s2)\n",
    "    dev3.append(s3)"
   ]
  },
  {
   "cell_type": "code",
   "execution_count": null,
   "metadata": {},
   "outputs": [],
   "source": [
    "import numpy as np \n",
    "\n",
    "print(np.mean(medie1))\n",
    "print(np.mean(medie2))\n",
    "print(np.mean(medie3))\n",
    "\n",
    "print(np.mean(dev1))    \n",
    "print(np.mean(dev2))\n",
    "print(np.mean(dev3))\n",
    "\n"
   ]
  },
  {
   "cell_type": "code",
   "execution_count": null,
   "metadata": {},
   "outputs": [],
   "source": [
    "import numpy as np\n",
    "\n",
    "def mean_without_outliers(data):\n",
    "    Q1 = np.percentile(data, 35)\n",
    "    Q3 = np.percentile(data, 65)\n",
    "    IQR = Q3 - Q1\n",
    "\n",
    "    lower_bound = Q1 - 1.5 * IQR\n",
    "    upper_bound = Q3 + 1.5 * IQR\n",
    "\n",
    "    filtered_data = [x for x in data if lower_bound <= x <= upper_bound]\n",
    "\n",
    "    return np.mean(filtered_data)"
   ]
  },
  {
   "cell_type": "code",
   "execution_count": null,
   "metadata": {},
   "outputs": [],
   "source": [
    "print(mean_without_outliers(medie1))\n",
    "print(mean_without_outliers(medie2))\n",
    "print(mean_without_outliers(medie3))\n",
    "print(mean_without_outliers(dev1))    \n",
    "print(mean_without_outliers(dev2))\n",
    "print(mean_without_outliers(dev3))"
   ]
  },
  {
   "cell_type": "code",
   "execution_count": null,
   "metadata": {},
   "outputs": [],
   "source": [
    "# make an histogram of the mean values\n",
    "plt.hist(medie1, bins=100)\n",
    "plt.show()\n",
    "\n",
    "# "
   ]
  },
  {
   "cell_type": "code",
   "execution_count": null,
   "metadata": {},
   "outputs": [],
   "source": [
    "plt.figure(figsize=(15, 15))\n",
    "plt.imshow(img[:,:,2])"
   ]
  },
  {
   "cell_type": "code",
   "execution_count": 5,
   "metadata": {},
   "outputs": [],
   "source": [
    "from pathlib import Path\n",
    "import pandas as pd  \n",
    "import os\n",
    "\n",
    "def manage_checkpoints(workdir):\n",
    "    pesi = Path(workdir).glob('*.pth')\n",
    "    scalars = list(Path(workdir).glob('**/scalars.json'))\n",
    "\n",
    "    data = pd.read_json(scalars[0], lines=True)\n",
    "    try:\n",
    "        row = data[data['coco/bbox_mAP_50'] == data['coco/bbox_mAP_50'].max()]\n",
    "        step, value = row['step'].values[0], row['coco/bbox_mAP_50'].values[0]\n",
    "        print(\"step value\")\n",
    "        print(step, value)\n",
    "\n",
    "        print(list(pesi))\n",
    "\n",
    "        for p in pesi:\n",
    "            nome = p.name\n",
    "            print(nome)\n",
    "            if nome != f'epoch_{step}.pth':\n",
    "                # delete the file:\n",
    "                print(f\"Deleting {p}\")\n",
    "                os.remove(p)\n",
    "    except KeyError:\n",
    "        print(\"KeyError\")\n",
    "        for p in pesi:\n",
    "            os.remove(p)\n",
    "        \n",
    "# Call the function with the directory path\n",
    "\n"
   ]
  },
  {
   "cell_type": "code",
   "execution_count": 6,
   "metadata": {},
   "outputs": [
    {
     "name": "stdout",
     "output_type": "stream",
     "text": [
      "104 0.533\n",
      "104 0.533\n",
      "[PosixPath('/home/roberto/PythonProjects/S2RAWVessel/checkpoints/20230516_055811_0.0005/epoch_57.pth'), PosixPath('/home/roberto/PythonProjects/S2RAWVessel/checkpoints/20230516_055811_0.0005/epoch_38.pth'), PosixPath('/home/roberto/PythonProjects/S2RAWVessel/checkpoints/20230516_055811_0.0005/epoch_86.pth'), PosixPath('/home/roberto/PythonProjects/S2RAWVessel/checkpoints/20230516_055811_0.0005/epoch_121.pth'), PosixPath('/home/roberto/PythonProjects/S2RAWVessel/checkpoints/20230516_055811_0.0005/epoch_101.pth'), PosixPath('/home/roberto/PythonProjects/S2RAWVessel/checkpoints/20230516_055811_0.0005/epoch_90.pth'), PosixPath('/home/roberto/PythonProjects/S2RAWVessel/checkpoints/20230516_055811_0.0005/epoch_23.pth'), PosixPath('/home/roberto/PythonProjects/S2RAWVessel/checkpoints/20230516_055811_0.0005/epoch_61.pth'), PosixPath('/home/roberto/PythonProjects/S2RAWVessel/checkpoints/20230516_055811_0.0005/epoch_81.pth'), PosixPath('/home/roberto/PythonProjects/S2RAWVessel/checkpoints/20230516_055811_0.0005/epoch_112.pth'), PosixPath('/home/roberto/PythonProjects/S2RAWVessel/checkpoints/20230516_055811_0.0005/epoch_19.pth'), PosixPath('/home/roberto/PythonProjects/S2RAWVessel/checkpoints/20230516_055811_0.0005/epoch_85.pth'), PosixPath('/home/roberto/PythonProjects/S2RAWVessel/checkpoints/20230516_055811_0.0005/epoch_132.pth'), PosixPath('/home/roberto/PythonProjects/S2RAWVessel/checkpoints/20230516_055811_0.0005/epoch_58.pth'), PosixPath('/home/roberto/PythonProjects/S2RAWVessel/checkpoints/20230516_055811_0.0005/epoch_130.pth'), PosixPath('/home/roberto/PythonProjects/S2RAWVessel/checkpoints/20230516_055811_0.0005/epoch_107.pth'), PosixPath('/home/roberto/PythonProjects/S2RAWVessel/checkpoints/20230516_055811_0.0005/epoch_129.pth'), PosixPath('/home/roberto/PythonProjects/S2RAWVessel/checkpoints/20230516_055811_0.0005/epoch_48.pth'), PosixPath('/home/roberto/PythonProjects/S2RAWVessel/checkpoints/20230516_055811_0.0005/epoch_36.pth'), PosixPath('/home/roberto/PythonProjects/S2RAWVessel/checkpoints/20230516_055811_0.0005/epoch_9.pth'), PosixPath('/home/roberto/PythonProjects/S2RAWVessel/checkpoints/20230516_055811_0.0005/epoch_126.pth'), PosixPath('/home/roberto/PythonProjects/S2RAWVessel/checkpoints/20230516_055811_0.0005/epoch_3.pth'), PosixPath('/home/roberto/PythonProjects/S2RAWVessel/checkpoints/20230516_055811_0.0005/epoch_64.pth'), PosixPath('/home/roberto/PythonProjects/S2RAWVessel/checkpoints/20230516_055811_0.0005/epoch_123.pth'), PosixPath('/home/roberto/PythonProjects/S2RAWVessel/checkpoints/20230516_055811_0.0005/epoch_30.pth'), PosixPath('/home/roberto/PythonProjects/S2RAWVessel/checkpoints/20230516_055811_0.0005/epoch_69.pth'), PosixPath('/home/roberto/PythonProjects/S2RAWVessel/checkpoints/20230516_055811_0.0005/epoch_92.pth'), PosixPath('/home/roberto/PythonProjects/S2RAWVessel/checkpoints/20230516_055811_0.0005/epoch_104.pth'), PosixPath('/home/roberto/PythonProjects/S2RAWVessel/checkpoints/20230516_055811_0.0005/epoch_28.pth'), PosixPath('/home/roberto/PythonProjects/S2RAWVessel/checkpoints/20230516_055811_0.0005/epoch_76.pth'), PosixPath('/home/roberto/PythonProjects/S2RAWVessel/checkpoints/20230516_055811_0.0005/epoch_52.pth'), PosixPath('/home/roberto/PythonProjects/S2RAWVessel/checkpoints/20230516_055811_0.0005/epoch_77.pth'), PosixPath('/home/roberto/PythonProjects/S2RAWVessel/checkpoints/20230516_055811_0.0005/epoch_8.pth'), PosixPath('/home/roberto/PythonProjects/S2RAWVessel/checkpoints/20230516_055811_0.0005/epoch_66.pth'), PosixPath('/home/roberto/PythonProjects/S2RAWVessel/checkpoints/20230516_055811_0.0005/epoch_56.pth'), PosixPath('/home/roberto/PythonProjects/S2RAWVessel/checkpoints/20230516_055811_0.0005/epoch_115.pth'), PosixPath('/home/roberto/PythonProjects/S2RAWVessel/checkpoints/20230516_055811_0.0005/epoch_127.pth'), PosixPath('/home/roberto/PythonProjects/S2RAWVessel/checkpoints/20230516_055811_0.0005/epoch_105.pth'), PosixPath('/home/roberto/PythonProjects/S2RAWVessel/checkpoints/20230516_055811_0.0005/epoch_100.pth'), PosixPath('/home/roberto/PythonProjects/S2RAWVessel/checkpoints/20230516_055811_0.0005/epoch_116.pth'), PosixPath('/home/roberto/PythonProjects/S2RAWVessel/checkpoints/20230516_055811_0.0005/epoch_84.pth'), PosixPath('/home/roberto/PythonProjects/S2RAWVessel/checkpoints/20230516_055811_0.0005/epoch_111.pth'), PosixPath('/home/roberto/PythonProjects/S2RAWVessel/checkpoints/20230516_055811_0.0005/epoch_13.pth'), PosixPath('/home/roberto/PythonProjects/S2RAWVessel/checkpoints/20230516_055811_0.0005/epoch_120.pth'), PosixPath('/home/roberto/PythonProjects/S2RAWVessel/checkpoints/20230516_055811_0.0005/epoch_50.pth'), PosixPath('/home/roberto/PythonProjects/S2RAWVessel/checkpoints/20230516_055811_0.0005/epoch_91.pth'), PosixPath('/home/roberto/PythonProjects/S2RAWVessel/checkpoints/20230516_055811_0.0005/epoch_106.pth'), PosixPath('/home/roberto/PythonProjects/S2RAWVessel/checkpoints/20230516_055811_0.0005/epoch_10.pth'), PosixPath('/home/roberto/PythonProjects/S2RAWVessel/checkpoints/20230516_055811_0.0005/epoch_1.pth'), PosixPath('/home/roberto/PythonProjects/S2RAWVessel/checkpoints/20230516_055811_0.0005/epoch_60.pth'), PosixPath('/home/roberto/PythonProjects/S2RAWVessel/checkpoints/20230516_055811_0.0005/epoch_89.pth'), PosixPath('/home/roberto/PythonProjects/S2RAWVessel/checkpoints/20230516_055811_0.0005/epoch_26.pth'), PosixPath('/home/roberto/PythonProjects/S2RAWVessel/checkpoints/20230516_055811_0.0005/epoch_78.pth'), PosixPath('/home/roberto/PythonProjects/S2RAWVessel/checkpoints/20230516_055811_0.0005/epoch_95.pth'), PosixPath('/home/roberto/PythonProjects/S2RAWVessel/checkpoints/20230516_055811_0.0005/epoch_65.pth'), PosixPath('/home/roberto/PythonProjects/S2RAWVessel/checkpoints/20230516_055811_0.0005/epoch_2.pth'), PosixPath('/home/roberto/PythonProjects/S2RAWVessel/checkpoints/20230516_055811_0.0005/epoch_63.pth'), PosixPath('/home/roberto/PythonProjects/S2RAWVessel/checkpoints/20230516_055811_0.0005/epoch_93.pth'), PosixPath('/home/roberto/PythonProjects/S2RAWVessel/checkpoints/20230516_055811_0.0005/epoch_4.pth'), PosixPath('/home/roberto/PythonProjects/S2RAWVessel/checkpoints/20230516_055811_0.0005/epoch_17.pth'), PosixPath('/home/roberto/PythonProjects/S2RAWVessel/checkpoints/20230516_055811_0.0005/epoch_15.pth'), PosixPath('/home/roberto/PythonProjects/S2RAWVessel/checkpoints/20230516_055811_0.0005/epoch_133.pth'), PosixPath('/home/roberto/PythonProjects/S2RAWVessel/checkpoints/20230516_055811_0.0005/epoch_33.pth'), PosixPath('/home/roberto/PythonProjects/S2RAWVessel/checkpoints/20230516_055811_0.0005/epoch_108.pth'), PosixPath('/home/roberto/PythonProjects/S2RAWVessel/checkpoints/20230516_055811_0.0005/epoch_16.pth'), PosixPath('/home/roberto/PythonProjects/S2RAWVessel/checkpoints/20230516_055811_0.0005/epoch_39.pth'), PosixPath('/home/roberto/PythonProjects/S2RAWVessel/checkpoints/20230516_055811_0.0005/epoch_72.pth'), PosixPath('/home/roberto/PythonProjects/S2RAWVessel/checkpoints/20230516_055811_0.0005/epoch_62.pth'), PosixPath('/home/roberto/PythonProjects/S2RAWVessel/checkpoints/20230516_055811_0.0005/epoch_87.pth'), PosixPath('/home/roberto/PythonProjects/S2RAWVessel/checkpoints/20230516_055811_0.0005/epoch_82.pth'), PosixPath('/home/roberto/PythonProjects/S2RAWVessel/checkpoints/20230516_055811_0.0005/epoch_24.pth'), PosixPath('/home/roberto/PythonProjects/S2RAWVessel/checkpoints/20230516_055811_0.0005/epoch_12.pth'), PosixPath('/home/roberto/PythonProjects/S2RAWVessel/checkpoints/20230516_055811_0.0005/epoch_128.pth'), PosixPath('/home/roberto/PythonProjects/S2RAWVessel/checkpoints/20230516_055811_0.0005/epoch_51.pth'), PosixPath('/home/roberto/PythonProjects/S2RAWVessel/checkpoints/20230516_055811_0.0005/epoch_83.pth'), PosixPath('/home/roberto/PythonProjects/S2RAWVessel/checkpoints/20230516_055811_0.0005/epoch_94.pth'), PosixPath('/home/roberto/PythonProjects/S2RAWVessel/checkpoints/20230516_055811_0.0005/epoch_21.pth'), PosixPath('/home/roberto/PythonProjects/S2RAWVessel/checkpoints/20230516_055811_0.0005/epoch_103.pth'), PosixPath('/home/roberto/PythonProjects/S2RAWVessel/checkpoints/20230516_055811_0.0005/epoch_110.pth'), PosixPath('/home/roberto/PythonProjects/S2RAWVessel/checkpoints/20230516_055811_0.0005/epoch_79.pth'), PosixPath('/home/roberto/PythonProjects/S2RAWVessel/checkpoints/20230516_055811_0.0005/epoch_75.pth'), PosixPath('/home/roberto/PythonProjects/S2RAWVessel/checkpoints/20230516_055811_0.0005/epoch_22.pth'), PosixPath('/home/roberto/PythonProjects/S2RAWVessel/checkpoints/20230516_055811_0.0005/epoch_40.pth'), PosixPath('/home/roberto/PythonProjects/S2RAWVessel/checkpoints/20230516_055811_0.0005/epoch_11.pth'), PosixPath('/home/roberto/PythonProjects/S2RAWVessel/checkpoints/20230516_055811_0.0005/epoch_117.pth'), PosixPath('/home/roberto/PythonProjects/S2RAWVessel/checkpoints/20230516_055811_0.0005/epoch_73.pth'), PosixPath('/home/roberto/PythonProjects/S2RAWVessel/checkpoints/20230516_055811_0.0005/epoch_70.pth'), PosixPath('/home/roberto/PythonProjects/S2RAWVessel/checkpoints/20230516_055811_0.0005/epoch_18.pth'), PosixPath('/home/roberto/PythonProjects/S2RAWVessel/checkpoints/20230516_055811_0.0005/epoch_99.pth'), PosixPath('/home/roberto/PythonProjects/S2RAWVessel/checkpoints/20230516_055811_0.0005/epoch_109.pth'), PosixPath('/home/roberto/PythonProjects/S2RAWVessel/checkpoints/20230516_055811_0.0005/epoch_29.pth'), PosixPath('/home/roberto/PythonProjects/S2RAWVessel/checkpoints/20230516_055811_0.0005/epoch_134.pth'), PosixPath('/home/roberto/PythonProjects/S2RAWVessel/checkpoints/20230516_055811_0.0005/epoch_35.pth'), PosixPath('/home/roberto/PythonProjects/S2RAWVessel/checkpoints/20230516_055811_0.0005/epoch_113.pth'), PosixPath('/home/roberto/PythonProjects/S2RAWVessel/checkpoints/20230516_055811_0.0005/epoch_44.pth'), PosixPath('/home/roberto/PythonProjects/S2RAWVessel/checkpoints/20230516_055811_0.0005/epoch_5.pth'), PosixPath('/home/roberto/PythonProjects/S2RAWVessel/checkpoints/20230516_055811_0.0005/epoch_34.pth'), PosixPath('/home/roberto/PythonProjects/S2RAWVessel/checkpoints/20230516_055811_0.0005/epoch_7.pth'), PosixPath('/home/roberto/PythonProjects/S2RAWVessel/checkpoints/20230516_055811_0.0005/epoch_20.pth'), PosixPath('/home/roberto/PythonProjects/S2RAWVessel/checkpoints/20230516_055811_0.0005/epoch_96.pth'), PosixPath('/home/roberto/PythonProjects/S2RAWVessel/checkpoints/20230516_055811_0.0005/epoch_49.pth'), PosixPath('/home/roberto/PythonProjects/S2RAWVessel/checkpoints/20230516_055811_0.0005/epoch_25.pth'), PosixPath('/home/roberto/PythonProjects/S2RAWVessel/checkpoints/20230516_055811_0.0005/epoch_37.pth'), PosixPath('/home/roberto/PythonProjects/S2RAWVessel/checkpoints/20230516_055811_0.0005/epoch_98.pth'), PosixPath('/home/roberto/PythonProjects/S2RAWVessel/checkpoints/20230516_055811_0.0005/epoch_119.pth'), PosixPath('/home/roberto/PythonProjects/S2RAWVessel/checkpoints/20230516_055811_0.0005/epoch_124.pth'), PosixPath('/home/roberto/PythonProjects/S2RAWVessel/checkpoints/20230516_055811_0.0005/epoch_14.pth'), PosixPath('/home/roberto/PythonProjects/S2RAWVessel/checkpoints/20230516_055811_0.0005/epoch_27.pth'), PosixPath('/home/roberto/PythonProjects/S2RAWVessel/checkpoints/20230516_055811_0.0005/epoch_6.pth'), PosixPath('/home/roberto/PythonProjects/S2RAWVessel/checkpoints/20230516_055811_0.0005/epoch_32.pth'), PosixPath('/home/roberto/PythonProjects/S2RAWVessel/checkpoints/20230516_055811_0.0005/epoch_54.pth'), PosixPath('/home/roberto/PythonProjects/S2RAWVessel/checkpoints/20230516_055811_0.0005/epoch_97.pth'), PosixPath('/home/roberto/PythonProjects/S2RAWVessel/checkpoints/20230516_055811_0.0005/epoch_114.pth'), PosixPath('/home/roberto/PythonProjects/S2RAWVessel/checkpoints/20230516_055811_0.0005/epoch_42.pth'), PosixPath('/home/roberto/PythonProjects/S2RAWVessel/checkpoints/20230516_055811_0.0005/epoch_80.pth'), PosixPath('/home/roberto/PythonProjects/S2RAWVessel/checkpoints/20230516_055811_0.0005/epoch_43.pth'), PosixPath('/home/roberto/PythonProjects/S2RAWVessel/checkpoints/20230516_055811_0.0005/epoch_125.pth'), PosixPath('/home/roberto/PythonProjects/S2RAWVessel/checkpoints/20230516_055811_0.0005/epoch_55.pth'), PosixPath('/home/roberto/PythonProjects/S2RAWVessel/checkpoints/20230516_055811_0.0005/epoch_41.pth'), PosixPath('/home/roberto/PythonProjects/S2RAWVessel/checkpoints/20230516_055811_0.0005/epoch_118.pth'), PosixPath('/home/roberto/PythonProjects/S2RAWVessel/checkpoints/20230516_055811_0.0005/epoch_71.pth'), PosixPath('/home/roberto/PythonProjects/S2RAWVessel/checkpoints/20230516_055811_0.0005/epoch_46.pth'), PosixPath('/home/roberto/PythonProjects/S2RAWVessel/checkpoints/20230516_055811_0.0005/epoch_88.pth'), PosixPath('/home/roberto/PythonProjects/S2RAWVessel/checkpoints/20230516_055811_0.0005/epoch_47.pth'), PosixPath('/home/roberto/PythonProjects/S2RAWVessel/checkpoints/20230516_055811_0.0005/epoch_122.pth'), PosixPath('/home/roberto/PythonProjects/S2RAWVessel/checkpoints/20230516_055811_0.0005/epoch_102.pth'), PosixPath('/home/roberto/PythonProjects/S2RAWVessel/checkpoints/20230516_055811_0.0005/epoch_31.pth'), PosixPath('/home/roberto/PythonProjects/S2RAWVessel/checkpoints/20230516_055811_0.0005/epoch_131.pth'), PosixPath('/home/roberto/PythonProjects/S2RAWVessel/checkpoints/20230516_055811_0.0005/epoch_59.pth'), PosixPath('/home/roberto/PythonProjects/S2RAWVessel/checkpoints/20230516_055811_0.0005/epoch_53.pth'), PosixPath('/home/roberto/PythonProjects/S2RAWVessel/checkpoints/20230516_055811_0.0005/epoch_74.pth'), PosixPath('/home/roberto/PythonProjects/S2RAWVessel/checkpoints/20230516_055811_0.0005/epoch_45.pth'), PosixPath('/home/roberto/PythonProjects/S2RAWVessel/checkpoints/20230516_055811_0.0005/epoch_68.pth'), PosixPath('/home/roberto/PythonProjects/S2RAWVessel/checkpoints/20230516_055811_0.0005/epoch_67.pth')]\n"
     ]
    }
   ],
   "source": [
    "folders=[\"/home/roberto/PythonProjects/S2RAWVessel/checkpoints/20230516_055811_0.0005\"]\n",
    "\n",
    "for folder in folders:\n",
    "    manage_checkpoints(folder)"
   ]
  },
  {
   "cell_type": "code",
   "execution_count": null,
   "metadata": {},
   "outputs": [],
   "source": [
    "# make a plot of the mAP@50 values:\n",
    "data = data[data['coco/bbox_mAP_50'].notna()]\n",
    "plt.figure(figsize=(5, 5))\n",
    "# add style to the plot:\n",
    "plt.style.use('seaborn-darkgrid')\n",
    "plt.xlabel('step')\n",
    "plt.ylabel('mAP@50')\n",
    "plt.plot(data['step'], data['coco/bbox_mAP_50'])\n",
    "plt.show()\n",
    "\n",
    "# make a plot of the mAP values:\n",
    "plt.figure(figsize=(5, 5))\n",
    "# add style to the plot:\n",
    "plt.style.use('seaborn-darkgrid')\n",
    "plt.xlabel('step')\n",
    "plt.ylabel('mAP')\n",
    "plt.plot(data['step'], data['coco/bbox_mAP'])\n",
    "plt.show()\n",
    "\n",
    "# make a plot of the mAP@75 values:\n",
    "plt.figure(figsize=(5, 5))\n",
    "# add style to the plot:\n",
    "plt.style.use('seaborn-darkgrid')\n",
    "plt.xlabel('step')\n",
    "plt.ylabel('mAP@75')\n",
    "plt.plot(data['step'], data['coco/bbox_mAP_75'])\n",
    "plt.show()  "
   ]
  },
  {
   "cell_type": "code",
   "execution_count": null,
   "metadata": {},
   "outputs": [],
   "source": [
    "data\n",
    "\n",
    "# filter data when coco/bbox_mAP_50 is none:\n",
    "data = data[data['coco/bbox_mAP_50'].notna()]\n",
    "data"
   ]
  },
  {
   "cell_type": "code",
   "execution_count": null,
   "metadata": {},
   "outputs": [],
   "source": [
    "a = [\"/home/roberto/PythonProjects/S2RAWVessel/checkpoints/20230514_094247\",\"/home/roberto/PythonProjects/S2RAWVessel/checkpoints/20230514_095528\",\"/home/roberto/PythonProjects/S2RAWVessel/checkpoints/20230514_095528\",\"/home/roberto/PythonProjects/S2RAWVessel/checkpoints/20230514_100835\", \"/home/roberto/PythonProjects/S2RAWVessel/checkpoints/20230514_104839\"]"
   ]
  },
  {
   "cell_type": "code",
   "execution_count": null,
   "metadata": {},
   "outputs": [],
   "source": [
    "def plot_checkpoints(workdir):\n",
    "    \"\"\"\n",
    "    This function plots the 'coco/bbox_mAP_50' values in a given directory. It reads a JSON file named 'scalars.json',\n",
    "    and plots the 'coco/bbox_mAP_50' values against the 'step' values.\n",
    "\n",
    "    Parameters:\n",
    "    workdir (str): The directory path which contains the checkpoint files and 'scalars.json'.\n",
    "\n",
    "    Returns:\n",
    "    None: The function plots the graph and doesn't return any value.\n",
    "    \"\"\"\n",
    "    scalars = list(Path(workdir).glob('**/scalars.json'))\n",
    "    title = list(Path(workdir).glob('**/*.py'))\n",
    "    title = title[0].stem\n",
    "    data = pd.read_json(scalars[0], lines=True)\n",
    "    # plot all the coco/bbox_mAP values and save each one in the same folder\n",
    "    data = data[data['coco/bbox_mAP_50'].notna()]\n",
    "\n",
    "    plt.figure(figsize=(5, 5))\n",
    "    # add style to the plot:\n",
    "    plt.style.use('seaborn-darkgrid')\n",
    "    plt.xlabel('step')\n",
    "    plt.ylabel('mAP@50')\n",
    "    plt.title(title)\n",
    "    plt.plot(data['step'], data['coco/bbox_mAP_50'])\n",
    "    plt.savefig(f'{workdir}/mAP_50.png')\n",
    "    plt.show()\n",
    "\n",
    "    # make a plot of the mAP values:\n",
    "    plt.figure(figsize=(5, 5))\n",
    "    # add style to the plot:\n",
    "    plt.style.use('seaborn-darkgrid')\n",
    "    plt.xlabel('step')\n",
    "    plt.ylabel('mAP')\n",
    "    plt.title(title)\n",
    "    plt.plot(data['step'], data['coco/bbox_mAP'])\n",
    "    plt.savefig(f'{workdir}/mAP.png')\n",
    "    plt.show()\n",
    "\n",
    "    # make a plot of the mAP@75 values:\n",
    "    plt.figure(figsize=(5, 5))\n",
    "    # add style to the plot:\n",
    "    plt.style.use('seaborn-darkgrid')\n",
    "    plt.xlabel('step')\n",
    "    plt.ylabel('mAP@75')\n",
    "    plt.title(title)\n",
    "    plt.plot(data['step'], data['coco/bbox_mAP_75'])\n",
    "    plt.savefig(f'{workdir}/mAP_75.png')\n",
    "    plt.show()  "
   ]
  },
  {
   "cell_type": "code",
   "execution_count": null,
   "metadata": {},
   "outputs": [],
   "source": [
    "import os\n",
    "for folder in a:\n",
    "    data = plot_checkpoints(folder)"
   ]
  },
  {
   "cell_type": "code",
   "execution_count": null,
   "metadata": {},
   "outputs": [],
   "source": []
  }
 ],
 "metadata": {
  "kernelspec": {
   "display_name": "openmmlab",
   "language": "python",
   "name": "python3"
  },
  "language_info": {
   "codemirror_mode": {
    "name": "ipython",
    "version": 3
   },
   "file_extension": ".py",
   "mimetype": "text/x-python",
   "name": "python",
   "nbconvert_exporter": "python",
   "pygments_lexer": "ipython3",
   "version": "3.8.16"
  },
  "orig_nbformat": 4
 },
 "nbformat": 4,
 "nbformat_minor": 2
}
