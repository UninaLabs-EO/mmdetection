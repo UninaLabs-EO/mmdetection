{
 "cells": [
  {
   "cell_type": "code",
   "execution_count": null,
   "metadata": {},
   "outputs": [],
   "source": [
    "import json\n",
    "\n",
    "annotations_path = '/home/roberto/PythonProjects/S2RAWVessel/mmdetection/data/S2ESA/annotations/'\n",
    "train_path = annotations_path + 'train.json'\n",
    "val_path = annotations_path + 'val.json'\n",
    "test_path = annotations_path + 'test.json'\n",
    "\n",
    "# read json file\n",
    "with open(train_path) as f:\n",
    "    train = json.load(f)\n",
    "with open(val_path) as f:\n",
    "    val = json.load(f)\n",
    "with open(test_path) as f:\n",
    "    test = json.load(f)\n"
   ]
  },
  {
   "cell_type": "code",
   "execution_count": null,
   "metadata": {},
   "outputs": [],
   "source": [
    "# gather statistics from this:\n",
    "heights = [x['height'] for x in train['images']]\n",
    "widths = [x['width'] for x in train['images']]\n",
    "# bboxes\n",
    "bboxes = [x['bbox'] for x in train['annotations']]\n",
    "\n"
   ]
  },
  {
   "cell_type": "code",
   "execution_count": null,
   "metadata": {},
   "outputs": [],
   "source": [
    "print('Num of images train: ', len(train['images']))\n",
    "print('Num of images val: ', len(val['images']))\n",
    "print('Num of images test: ', len(test['images']))\n",
    "\n",
    "print('Num of annotations train: ', len(train['annotations']))\n",
    "print('Num of annotations val: ', len(val['annotations']))\n",
    "print('Num of annotations test: ', len(test['annotations']))"
   ]
  },
  {
   "cell_type": "code",
   "execution_count": null,
   "metadata": {},
   "outputs": [],
   "source": [
    "print('Mean width: ', sum(widths)/len(widths))\n",
    "print('Mean height: ', sum(heights)/len(heights))"
   ]
  },
  {
   "cell_type": "code",
   "execution_count": null,
   "metadata": {},
   "outputs": [],
   "source": [
    "print(max(heights))\n",
    "print(max(widths))"
   ]
  },
  {
   "cell_type": "code",
   "execution_count": null,
   "metadata": {},
   "outputs": [],
   "source": [
    "import matplotlib.pyplot as plt\n",
    "import numpy as np\n",
    "\n",
    "def create_heatmap(bboxes, heatmap_size=(1000, 1000)):\n",
    "    \"\"\"\n",
    "    Create a heatmap from a list of bounding boxes.\n",
    "\n",
    "    Args:\n",
    "        bboxes (list): List of bounding boxes. Each bounding box is a list of four floats [x, y, width, height].\n",
    "        heatmap_size (tuple): Size of the heatmap. Default is (1000, 1000).\n",
    "\n",
    "    Returns:\n",
    "        None\n",
    "    \"\"\"\n",
    "    heatmap = np.zeros(heatmap_size)\n",
    "\n",
    "    for bbox in bboxes:\n",
    "        x, y, width, height = map(int, bbox)\n",
    "        heatmap[y:y+height, x:x+width] += 1\n",
    "\n",
    "    plt.figure(figsize=(10,10), dpi=300)\n",
    "    plt.imshow(heatmap, cmap='hot', interpolation='nearest')\n",
    "    plt.axis(False)\n",
    "    # add colorbar\n",
    "    plt.colorbar()\n",
    "    \n",
    "    plt.show()\n",
    "\n",
    "\n",
    "create_heatmap(bboxes, heatmap_size=(max(heights), max(widths)))\n"
   ]
  },
  {
   "cell_type": "code",
   "execution_count": null,
   "metadata": {},
   "outputs": [],
   "source": [
    "# print the average dimension of the bbox, it scales with the image size\n",
    "print('Mean width: ', sum([x[2] for x in bboxes])/len(bboxes))\n",
    "print('Mean height: ', sum([x[3] for x in bboxes])/len(bboxes))"
   ]
  },
  {
   "cell_type": "markdown",
   "metadata": {},
   "source": [
    "# Plot checkpoint:"
   ]
  },
  {
   "cell_type": "code",
   "execution_count": null,
   "metadata": {},
   "outputs": [],
   "source": [
    "from pathlib import Path\n",
    "import pandas as pd  \n",
    "import os\n",
    "import argparse\n",
    "import matplotlib.pyplot as plt\n",
    "from pathlib import Path\n",
    "import subprocess\n",
    "import shutil"
   ]
  },
  {
   "cell_type": "code",
   "execution_count": null,
   "metadata": {},
   "outputs": [],
   "source": [
    "def plot_checkpoints(workdir):\n",
    "    \"\"\"\n",
    "    This function plots the 'coco/bbox_mAP_50' values in a given directory. It reads a JSON file named 'scalars.json',\n",
    "    and plots the 'coco/bbox_mAP_50' values against the 'step' values.\n",
    "\n",
    "    Parameters:\n",
    "    workdir (str): The directory path which contains the checkpoint files and 'scalars.json'.\n",
    "\n",
    "    Returns:\n",
    "    None: The function plots the graph and doesn't return any value.\n",
    "    \"\"\"\n",
    "    scalars = list(Path(workdir).glob('**/scalars.json'))\n",
    "    title = list(Path(workdir).glob('**/*.py'))\n",
    "    title = title[0].stem\n",
    "    data = pd.read_json(scalars[0], lines=True)\n",
    "    data = data[data['coco/bbox_mAP_50'].notna()]\n",
    "\n",
    "    # plot all the coco/bbox_mAP values and save each one in the same folder\n",
    "    plt.figure(figsize=(5, 5))\n",
    "    # add style to the plot:\n",
    "    plt.style.use('seaborn-darkgrid')\n",
    "    plt.xlabel('step')\n",
    "    plt.ylabel('mAP@50')\n",
    "    plt.title(title)\n",
    "    plt.plot(data['step'], data['coco/bbox_mAP_50'])\n",
    "    plt.show()\n",
    "\n",
    "    # make a plot of the mAP values:\n",
    "    plt.figure(figsize=(5, 5))\n",
    "    # add style to the plot:\n",
    "    plt.style.use('seaborn-darkgrid')\n",
    "    plt.xlabel('step')\n",
    "    plt.ylabel('mAP')\n",
    "    plt.title(title)\n",
    "    plt.plot(data['step'], data['coco/bbox_mAP'])\n",
    "    plt.show()\n",
    "\n",
    "    # make a plot of the mAP@75 values:\n",
    "    plt.figure(figsize=(5, 5))\n",
    "    # add style to the plot:\n",
    "    plt.style.use('seaborn-darkgrid')\n",
    "    plt.xlabel('step')\n",
    "    plt.ylabel('mAP@75')\n",
    "    plt.title(title)\n",
    "    plt.plot(data['step'], data['coco/bbox_mAP_75'])\n",
    "    plt.show()  \n",
    "    \n",
    "    \n",
    "    # make a plot of mAP@50, mAP and mAP@75 in the same plot:\n",
    "    plt.figure(figsize=(5, 5))\n",
    "    # add style to the plot:\n",
    "    plt.style.use('seaborn-darkgrid')\n",
    "    plt.xlabel('step')\n",
    "    plt.ylabel('mAP')\n",
    "    plt.title(title)\n",
    "    plt.plot(data['step'], data['coco/bbox_mAP_50'], label='mAP@50')\n",
    "    plt.plot(data['step'], data['coco/bbox_mAP'], label='mAP')\n",
    "    plt.plot(data['step'], data['coco/bbox_mAP_75'], label='mAP@75')\n",
    "    plt.legend()\n",
    "    plt.show()"
   ]
  },
  {
   "cell_type": "code",
   "execution_count": null,
   "metadata": {},
   "outputs": [],
   "source": [
    "plot_checkpoints('/home/roberto/PythonProjects/S2RAWVessel/checkpoints/vfnet_r18_fpn_1x_vessel/20230518_152156_0.0005')"
   ]
  },
  {
   "cell_type": "markdown",
   "metadata": {},
   "source": [
    "# Test Dataloader:"
   ]
  },
  {
   "cell_type": "code",
   "execution_count": null,
   "metadata": {},
   "outputs": [],
   "source": [
    "from mmcv.transforms import LoadImageFromFile\n",
    "import matplotlib.pyplot as plt\n",
    "import cv2\n",
    "\n",
    "# backend_args = dict(channel_order='bgr')\n",
    "backend_args = None\n",
    "\n",
    "loader = LoadImageFromFile(to_float32=True, color_type='color', imdecode_backend='tifffile', backend_args=backend_args)\n",
    "loader"
   ]
  },
  {
   "cell_type": "code",
   "execution_count": null,
   "metadata": {},
   "outputs": [],
   "source": [
    "from pathlib import Path  \n",
    "\n",
    "immagini_path = Path('/home/roberto/PythonProjects/S2RAWVessel/mmdetection/data/S2ESA/imgs')\n",
    "paths = list(immagini_path.glob('*.tiff'))\n",
    "\n",
    "medie1, medie2, medie3 = [], [], []\n",
    "dev1, dev2, dev3 = [], [], []\n",
    "for idx,path in enumerate(paths):\n",
    "    try:\n",
    "        l = loader(results={'img_path': path})\n",
    "        img = l['img']\n",
    "        a,b,c = img[:,:,0], img[:,:,1], img[:,:,2]\n",
    "\n",
    "\n",
    "        m1, m2, m3 = a.mean(), b.mean(), c.mean()\n",
    "        s1, s2, s3 = a.std(), b.std(), c.std()\n",
    "        \n",
    "        medie1.append(m1)\n",
    "        medie2.append(m2)\n",
    "        medie3.append(m3)\n",
    "        \n",
    "        dev1.append(s1)\n",
    "        dev2.append(s2)\n",
    "        dev3.append(s3)\n",
    "    except:\n",
    "        print('Error with the png:', path)"
   ]
  },
  {
   "cell_type": "code",
   "execution_count": 26,
   "metadata": {},
   "outputs": [
    {
     "name": "stdout",
     "output_type": "stream",
     "text": [
      "13275.393\n",
      "13802.904\n",
      "12052.766\n",
      "10931.518\n",
      "8811.33\n",
      "7766.496\n"
     ]
    }
   ],
   "source": [
    "import numpy as np \n",
    "\n",
    "print(np.mean(medie1))\n",
    "print(np.mean(medie2))\n",
    "print(np.mean(medie3))\n",
    "\n",
    "print(np.mean(dev1))    \n",
    "print(np.mean(dev2))\n",
    "print(np.mean(dev3))\n",
    "\n"
   ]
  },
  {
   "cell_type": "code",
   "execution_count": null,
   "metadata": {},
   "outputs": [],
   "source": [
    "import numpy as np\n",
    "\n",
    "def mean_without_outliers(data):\n",
    "    Q1 = np.percentile(data, 20)\n",
    "    Q3 = np.percentile(data, 80)\n",
    "    IQR = Q3 - Q1\n",
    "\n",
    "    lower_bound = Q1 - 1.5 * IQR\n",
    "    upper_bound = Q3 + 1.5 * IQR\n",
    "\n",
    "    filtered_data = [x for x in data if lower_bound <= x <= upper_bound]\n",
    "\n",
    "    return np.mean(filtered_data)"
   ]
  },
  {
   "cell_type": "code",
   "execution_count": null,
   "metadata": {},
   "outputs": [],
   "source": [
    "print(mean_without_outliers(medie1))\n",
    "print(mean_without_outliers(medie2))\n",
    "print(mean_without_outliers(medie3))\n",
    "print(mean_without_outliers(dev1))    \n",
    "print(mean_without_outliers(dev2))\n",
    "print(mean_without_outliers(dev3))"
   ]
  },
  {
   "cell_type": "code",
   "execution_count": null,
   "metadata": {},
   "outputs": [],
   "source": [
    "# make an histogram of the mean values\n",
    "plt.hist(medie1, bins=100)\n",
    "plt.show()\n",
    "# "
   ]
  },
  {
   "cell_type": "code",
   "execution_count": null,
   "metadata": {},
   "outputs": [],
   "source": [
    "plt.figure(figsize=(15, 15))\n",
    "plt.imshow(img[:,:,:] / img.max())"
   ]
  },
  {
   "cell_type": "code",
   "execution_count": 25,
   "metadata": {},
   "outputs": [],
   "source": [
    "r,g,b = img[:,:,0], img[:,:,1], img[:,:,2]"
   ]
  },
  {
   "cell_type": "code",
   "execution_count": null,
   "metadata": {},
   "outputs": [],
   "source": []
  },
  {
   "cell_type": "code",
   "execution_count": null,
   "metadata": {},
   "outputs": [],
   "source": [
    "from pathlib import Path\n",
    "import pandas as pd  \n",
    "import os\n",
    "\n",
    "def manage_checkpoints(workdir):\n",
    "    pesi = Path(workdir).glob('*.pth')\n",
    "    scalars = list(Path(workdir).glob('**/scalars.json'))\n",
    "\n",
    "    data = pd.read_json(scalars[0], lines=True)\n",
    "    try:\n",
    "        row = data[data['coco/bbox_mAP_50'] == data['coco/bbox_mAP_50'].max()]\n",
    "        step, value = row['step'].values[0], row['coco/bbox_mAP_50'].values[0]\n",
    "        print(\"step value\")\n",
    "        print(step, value)\n",
    "\n",
    "        print(list(pesi))\n",
    "\n",
    "        for p in pesi:\n",
    "            nome = p.name\n",
    "            print(nome)\n",
    "            if nome != f'epoch_{step}.pth':\n",
    "                # delete the file:\n",
    "                print(f\"Deleting {p}\")\n",
    "                os.remove(p)\n",
    "    except KeyError:\n",
    "        print(\"KeyError\")\n",
    "        for p in pesi:\n",
    "            os.remove(p)\n",
    "        \n",
    "# Call the function with the directory path\n",
    "\n"
   ]
  },
  {
   "cell_type": "code",
   "execution_count": null,
   "metadata": {},
   "outputs": [],
   "source": [
    "folders=[\"/home/roberto/PythonProjects/S2RAWVessel/checkpoints/20230516_055811_0.0005\"]\n",
    "\n",
    "for folder in folders:\n",
    "    manage_checkpoints(folder)"
   ]
  },
  {
   "cell_type": "code",
   "execution_count": null,
   "metadata": {},
   "outputs": [],
   "source": [
    "# make a plot of the mAP@50 values:\n",
    "data = data[data['coco/bbox_mAP_50'].notna()]\n",
    "plt.figure(figsize=(5, 5))\n",
    "# add style to the plot:\n",
    "plt.style.use('seaborn-darkgrid')\n",
    "plt.xlabel('step')\n",
    "plt.ylabel('mAP@50')\n",
    "plt.plot(data['step'], data['coco/bbox_mAP_50'])\n",
    "plt.show()\n",
    "\n",
    "# make a plot of the mAP values:\n",
    "plt.figure(figsize=(5, 5))\n",
    "# add style to the plot:\n",
    "plt.style.use('seaborn-darkgrid')\n",
    "plt.xlabel('step')\n",
    "plt.ylabel('mAP')\n",
    "plt.plot(data['step'], data['coco/bbox_mAP'])\n",
    "plt.show()\n",
    "\n",
    "# make a plot of the mAP@75 values:\n",
    "plt.figure(figsize=(5, 5))\n",
    "# add style to the plot:\n",
    "plt.style.use('seaborn-darkgrid')\n",
    "plt.xlabel('step')\n",
    "plt.ylabel('mAP@75')\n",
    "plt.plot(data['step'], data['coco/bbox_mAP_75'])\n",
    "plt.show()  "
   ]
  },
  {
   "cell_type": "code",
   "execution_count": null,
   "metadata": {},
   "outputs": [],
   "source": [
    "data\n",
    "\n",
    "# filter data when coco/bbox_mAP_50 is none:\n",
    "data = data[data['coco/bbox_mAP_50'].notna()]\n",
    "data"
   ]
  },
  {
   "cell_type": "code",
   "execution_count": null,
   "metadata": {},
   "outputs": [],
   "source": [
    "a = [\"/home/roberto/PythonProjects/S2RAWVessel/checkpoints/20230514_094247\",\"/home/roberto/PythonProjects/S2RAWVessel/checkpoints/20230514_095528\",\"/home/roberto/PythonProjects/S2RAWVessel/checkpoints/20230514_095528\",\"/home/roberto/PythonProjects/S2RAWVessel/checkpoints/20230514_100835\", \"/home/roberto/PythonProjects/S2RAWVessel/checkpoints/20230514_104839\"]"
   ]
  },
  {
   "cell_type": "code",
   "execution_count": null,
   "metadata": {},
   "outputs": [],
   "source": [
    "def plot_checkpoints(workdir):\n",
    "    \"\"\"\n",
    "    This function plots the 'coco/bbox_mAP_50' values in a given directory. It reads a JSON file named 'scalars.json',\n",
    "    and plots the 'coco/bbox_mAP_50' values against the 'step' values.\n",
    "\n",
    "    Parameters:\n",
    "    workdir (str): The directory path which contains the checkpoint files and 'scalars.json'.\n",
    "\n",
    "    Returns:\n",
    "    None: The function plots the graph and doesn't return any value.\n",
    "    \"\"\"\n",
    "    scalars = list(Path(workdir).glob('**/scalars.json'))\n",
    "    title = list(Path(workdir).glob('**/*.py'))\n",
    "    title = title[0].stem\n",
    "    data = pd.read_json(scalars[0], lines=True)\n",
    "    # plot all the coco/bbox_mAP values and save each one in the same folder\n",
    "    data = data[data['coco/bbox_mAP_50'].notna()]\n",
    "\n",
    "    plt.figure(figsize=(5, 5))\n",
    "    # add style to the plot:\n",
    "    plt.style.use('seaborn-darkgrid')\n",
    "    plt.xlabel('step')\n",
    "    plt.ylabel('mAP@50')\n",
    "    plt.title(title)\n",
    "    plt.plot(data['step'], data['coco/bbox_mAP_50'])\n",
    "    plt.savefig(f'{workdir}/mAP_50.png')\n",
    "    plt.show()\n",
    "\n",
    "    # make a plot of the mAP values:\n",
    "    plt.figure(figsize=(5, 5))\n",
    "    # add style to the plot:\n",
    "    plt.style.use('seaborn-darkgrid')\n",
    "    plt.xlabel('step')\n",
    "    plt.ylabel('mAP')\n",
    "    plt.title(title)\n",
    "    plt.plot(data['step'], data['coco/bbox_mAP'])\n",
    "    plt.savefig(f'{workdir}/mAP.png')\n",
    "    plt.show()\n",
    "\n",
    "    # make a plot of the mAP@75 values:\n",
    "    plt.figure(figsize=(5, 5))\n",
    "    # add style to the plot:\n",
    "    plt.style.use('seaborn-darkgrid')\n",
    "    plt.xlabel('step')\n",
    "    plt.ylabel('mAP@75')\n",
    "    plt.title(title)\n",
    "    plt.plot(data['step'], data['coco/bbox_mAP_75'])\n",
    "    plt.savefig(f'{workdir}/mAP_75.png')\n",
    "    plt.show()  "
   ]
  },
  {
   "cell_type": "code",
   "execution_count": null,
   "metadata": {},
   "outputs": [],
   "source": [
    "import os\n",
    "for folder in a:\n",
    "    data = plot_checkpoints(folder)"
   ]
  },
  {
   "cell_type": "code",
   "execution_count": null,
   "metadata": {},
   "outputs": [],
   "source": []
  }
 ],
 "metadata": {
  "kernelspec": {
   "display_name": "openmmlab",
   "language": "python",
   "name": "python3"
  },
  "language_info": {
   "codemirror_mode": {
    "name": "ipython",
    "version": 3
   },
   "file_extension": ".py",
   "mimetype": "text/x-python",
   "name": "python",
   "nbconvert_exporter": "python",
   "pygments_lexer": "ipython3",
   "version": "3.8.17"
  },
  "orig_nbformat": 4
 },
 "nbformat": 4,
 "nbformat_minor": 2
}
